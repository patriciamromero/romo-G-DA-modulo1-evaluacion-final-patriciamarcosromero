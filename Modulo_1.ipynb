{
 "cells": [
  {
   "cell_type": "markdown",
   "metadata": {},
   "source": [
    "Evaluación Final"
   ]
  },
  {
   "cell_type": "code",
   "execution_count": 225,
   "metadata": {},
   "outputs": [],
   "source": [
    "class TiendaOnline:\n",
    "    def __init__(self):\n",
    "        self.inventario = []\n",
    "        self.clientes = {}\n",
    "        \n",
    "    def agregar_producto(self, nombre, precio, cantidad):\n",
    "\n",
    "        producto = {\"nombre\": nombre, \"precio\": precio, \"cantidad\": cantidad}\n",
    "\n",
    "        if len(self.inventario) > 0:\n",
    "            \n",
    "            for producto_existente in self.inventario:\n",
    "\n",
    "                if producto_existente == producto:\n",
    "\n",
    "                    producto_existente[\"cantidad\"] = cantidad\n",
    "            \n",
    "                else: \n",
    "\n",
    "                    self.inventario.append(producto)\n",
    "\n",
    "        else:\n",
    "            \n",
    "            self.inventario.append(producto)\n",
    "\n",
    "\n",
    "    \n",
    "    def ver_inventario(self):\n",
    "        \n",
    "        for producto_existente in self.inventario:\n",
    "\n",
    "            print(f\"Nombre: {producto_existente['nombre']}, Precio : ${producto_existente['precio']}, Cantidad: {producto_existente['cantidad']}\")\n",
    "\n",
    "    def buscar_producto(self, nombre):\n",
    "\n",
    "        for producto_existente in self.inventario:\n",
    "\n",
    "            if producto_existente[\"nombre\"] == nombre:\n",
    "\n",
    "                print(f\"Nombre: {producto_existente['nombre']}, Precio : ${producto_existente['precio']}, Cantidad: {producto_existente['cantidad']}\")\n",
    "                return producto_existente\n",
    "\n",
    "    def actualizar_stock(self, nombre, cantidad):\n",
    "\n",
    "        for producto_existente in self.inventario:\n",
    "\n",
    "            if producto_existente[\"nombre\"] == nombre:\n",
    "\n",
    "                producto_existente[\"cantidad\"] = cantidad\n",
    "                return \n",
    "            \n",
    "        print(\"Producto no disponible en inventario\")\n",
    "\n",
    "    def eliminar_producto(self, nombre):\n",
    "\n",
    "        for producto_existente in self.inventario:\n",
    "\n",
    "            if producto_existente[\"nombre\"] == nombre:\n",
    "\n",
    "                self.inventario.remove(producto_existente)\n",
    "                return\n",
    "            \n",
    "                \n",
    "        print(\"El producto no existe en inventario\")\n",
    "    \n",
    "    def calcular_valor_inventario(self):\n",
    "\n",
    "        for producto_existente in self.inventario:\n",
    "\n",
    "            valor_producto_existente = producto_existente[\"precio\"] * producto_existente[\"cantidad\"]\n",
    "\n",
    "            valor_inventario =+ valor_producto_existente\n",
    "\n",
    "            return valor_inventario\n",
    "    \n",
    "    def realizar_compra(self):\n",
    "\n",
    "        seguir_comprando = True\n",
    "\n",
    "        carrito_cliente = {}\n",
    "        \n",
    "        costo_total_compra = 0 \n",
    "\n",
    "        while seguir_comprando:\n",
    "        \n",
    "            self.ver_inventario()\n",
    "\n",
    "            nombre_producto_cliente = input(\"Indica el producto que quieres añadir a tu carrito de compra\")\n",
    "\n",
    "            producto_cliente_quiere = self.buscar_producto(nombre_producto_cliente)\n",
    "            \n",
    "            if producto_cliente_quiere not in self.inventario:\n",
    "                print(\"Producto no disponible\")\n",
    "                respuesta_seguir_comprando = input(\"¿Quieres seguir comprando?[Si/No]\").lower()\n",
    "                \n",
    "                if respuesta_seguir_comprando == \"no\":\n",
    "                    seguir_comprando = False\n",
    "                \n",
    "                continue\n",
    "\n",
    "            if nombre_producto_cliente in carrito_cliente:\n",
    "\n",
    "                carrito_cliente[nombre_producto_cliente][\"cantidad\"] += 1\n",
    "\n",
    "            else: \n",
    "\n",
    "                carrito_cliente[nombre_producto_cliente] = {\"precio\" : producto_cliente_quiere[\"precio\"], \"cantidad\" : 1}\n",
    "\n",
    "            self.actualizar_stock(nombre_producto_cliente, producto_cliente_quiere[\"cantidad\"] - 1 )\n",
    "\n",
    "            respuesta_seguir_comprando = input(\"¿Quieres seguir comprando?[Si/No]\").lower()\n",
    "\n",
    "            if respuesta_seguir_comprando == \"no\":\n",
    "                \n",
    "                seguir_comprando = False     \n",
    "        \n",
    "        for nombre_producto in carrito_cliente:\n",
    "    \n",
    "            costo_total_compra = costo_total_compra + (carrito_cliente[nombre_producto][\"precio\"] * carrito_cliente[nombre_producto][\"cantidad\"])\n",
    "        \n",
    "\n",
    "        print(f\"El precio de tu compra es de ${costo_total_compra}\")\n",
    "\n",
    "        return carrito_cliente  \n",
    "\n",
    "    def procesar_pago(self):\n",
    "\n",
    "        cantidad_deuda= (input(\"¿Cuánto quiere pagar?\"))\n",
    "        cantidad_pago = (input(\"¿Cuánto dinero ingresa?\"))\n",
    "\n",
    "        try:        \n",
    "            cambio = int(cantidad_pago) - int(cantidad_deuda)\n",
    "            \n",
    "            if cambio >= 0:\n",
    "\n",
    "                print(f\"Pago existoso. Aquí tiene su cambio ${cambio}\")\n",
    "\n",
    "            else:\n",
    "\n",
    "                print(f\"La cantidad de ${cantidad_pago} es insuficiente para saldar la deuda de ${cantidad_deuda}\")\n",
    "        except:\n",
    "            ValueError\n",
    "            print(\"Error. Revise la información no es posible procesar el pago.\")\n",
    "    \n",
    "    def agregar_clientes(self, nombre, email):\n",
    "            \n",
    "            self.clientes[nombre] = {\"email\": email, \"compras\" : []}\n",
    "            print(self.clientes)\n",
    "    \n",
    "    def ver_clientes(self):\n",
    "\n",
    "         for cliente in self.clientes:\n",
    "             \n",
    "             email = self.clientes[cliente][\"email\"]\n",
    "             \n",
    "             print(f\"Los datos para el cliente {cliente} son {email}\")\n",
    "    \n",
    "    def registrar_compra(self, nombre_cliente, carrito):  \n",
    "        \n",
    "        total_compra_cliente = 0\n",
    "\n",
    "        for nombre in self.clientes:\n",
    "\n",
    "            if nombre == nombre_cliente:\n",
    "\n",
    "                for datos_producto in carrito.values():\n",
    "\n",
    "                    total_compra_cliente = total_compra_cliente + (datos_producto[\"precio\"] * datos_producto[\"cantidad\"])\n",
    "\n",
    "                compra = {\"productos\": carrito, \"total\" : total_compra_cliente}\n",
    "\n",
    "                if \"compras\" in self.clientes[nombre]:\n",
    "\n",
    "                    self.clientes[nombre][\"compras\"].append(compra)\n",
    "                    \n",
    "\n",
    "                else:\n",
    "                    self.clientes[nombre][\"compras\"] = [compra]\n",
    "\n",
    "                return \n",
    "\n",
    "        print(\"No se puede realizar la acción porque el cliente no pertenece a nuestros clientes.\")\n",
    "                \n",
    "        \n",
    "    def ver_compras_cliente(self, nombre_cliente):\n",
    "        \n",
    "        for cliente in self.clientes:\n",
    "\n",
    "            if nombre_cliente == cliente:\n",
    "                \n",
    "\n",
    "                for compra in self.clientes[cliente][\"compras\"]:\n",
    "\n",
    "                    print(f\"Cliente {nombre_cliente} ha hecho una compra por importe ${compra['total']} por los siguientes productos:\" )\n",
    "\n",
    "                    for nombre_producto in compra['productos']:\n",
    "                        print(f\"{compra['productos'][nombre_producto]['cantidad']}x {nombre_producto} --- $({compra['productos'][nombre_producto]['precio']}) {compra['productos'][nombre_producto]['cantidad'] * compra['productos'][nombre_producto]['precio']}\")\n",
    "\n",
    "                return\n",
    "            \n",
    "        print(\"No se puede realizar la acción porque el cliente no pertenece a nuestros clientes.\")\n",
    "\n",
    "\n",
    "    def calcular_ventas_totales(self):\n",
    "\n",
    "        ventas_totales = 0\n",
    "\n",
    "        for datos_cliente in self.clientes.values():\n",
    "\n",
    "            for compra in datos_cliente[\"compras\"]:\n",
    "\n",
    "                ventas_totales = compra[\"total\"] + ventas_totales\n",
    "\n",
    "        print(f\"El total de ventas suma ${ventas_totales}\")\n",
    "\n"
   ]
  },
  {
   "cell_type": "code",
   "execution_count": 226,
   "metadata": {},
   "outputs": [],
   "source": [
    "tienda = TiendaOnline()\n",
    "\n",
    "tienda.agregar_producto(\"camisa\", 10, 4)\n"
   ]
  },
  {
   "cell_type": "code",
   "execution_count": 227,
   "metadata": {},
   "outputs": [],
   "source": [
    "tienda.agregar_producto(\"vestido\", 15, 7)"
   ]
  },
  {
   "cell_type": "code",
   "execution_count": 228,
   "metadata": {},
   "outputs": [
    {
     "name": "stdout",
     "output_type": "stream",
     "text": [
      "Nombre: camisa, Precio : $10, Cantidad: 4\n",
      "Nombre: vestido, Precio : $15, Cantidad: 7\n"
     ]
    }
   ],
   "source": [
    "tienda.ver_inventario()"
   ]
  },
  {
   "cell_type": "code",
   "execution_count": 229,
   "metadata": {},
   "outputs": [
    {
     "name": "stdout",
     "output_type": "stream",
     "text": [
      "Nombre: camisa, Precio : $10, Cantidad: 4\n"
     ]
    },
    {
     "data": {
      "text/plain": [
       "{'nombre': 'camisa', 'precio': 10, 'cantidad': 4}"
      ]
     },
     "execution_count": 229,
     "metadata": {},
     "output_type": "execute_result"
    }
   ],
   "source": [
    "tienda.buscar_producto(\"camisa\")"
   ]
  },
  {
   "cell_type": "code",
   "execution_count": 230,
   "metadata": {},
   "outputs": [],
   "source": [
    "tienda.actualizar_stock(\"vestido\", 6)"
   ]
  },
  {
   "cell_type": "code",
   "execution_count": 231,
   "metadata": {},
   "outputs": [],
   "source": [
    "tienda.actualizar_stock(\"camisa\", 15)"
   ]
  },
  {
   "cell_type": "code",
   "execution_count": 213,
   "metadata": {},
   "outputs": [],
   "source": [
    "#tienda.eliminar_producto(\"vestido\")"
   ]
  },
  {
   "cell_type": "code",
   "execution_count": 171,
   "metadata": {},
   "outputs": [],
   "source": [
    "#tienda.eliminar_producto(\"camisa\")"
   ]
  },
  {
   "cell_type": "code",
   "execution_count": 232,
   "metadata": {},
   "outputs": [
    {
     "data": {
      "text/plain": [
       "150"
      ]
     },
     "execution_count": 232,
     "metadata": {},
     "output_type": "execute_result"
    }
   ],
   "source": [
    "tienda.calcular_valor_inventario()"
   ]
  },
  {
   "cell_type": "code",
   "execution_count": 236,
   "metadata": {},
   "outputs": [
    {
     "name": "stdout",
     "output_type": "stream",
     "text": [
      "Nombre: camisa, Precio : $10, Cantidad: 10\n",
      "Nombre: vestido, Precio : $15, Cantidad: 5\n",
      "Nombre: vestido, Precio : $15, Cantidad: 5\n",
      "Nombre: camisa, Precio : $10, Cantidad: 10\n",
      "Nombre: vestido, Precio : $15, Cantidad: 4\n",
      "Nombre: camisa, Precio : $10, Cantidad: 10\n",
      "El precio de tu compra es de $25\n"
     ]
    },
    {
     "data": {
      "text/plain": [
       "{'vestido': {'precio': 15, 'cantidad': 1},\n",
       " 'camisa': {'precio': 10, 'cantidad': 1}}"
      ]
     },
     "execution_count": 236,
     "metadata": {},
     "output_type": "execute_result"
    }
   ],
   "source": [
    "tienda.realizar_compra()"
   ]
  },
  {
   "cell_type": "code",
   "execution_count": 237,
   "metadata": {},
   "outputs": [
    {
     "name": "stdout",
     "output_type": "stream",
     "text": [
      "Pago existoso. Aquí tiene su cambio $200\n"
     ]
    }
   ],
   "source": [
    "tienda.procesar_pago()"
   ]
  },
  {
   "cell_type": "code",
   "execution_count": 239,
   "metadata": {},
   "outputs": [
    {
     "name": "stdout",
     "output_type": "stream",
     "text": [
      "{'Pepe': {'email': 'pepe@gmail.com', 'compras': []}}\n"
     ]
    }
   ],
   "source": [
    "tienda.agregar_clientes(\"Pepe\", \"pepe@gmail.com\")"
   ]
  },
  {
   "cell_type": "code",
   "execution_count": 240,
   "metadata": {},
   "outputs": [
    {
     "name": "stdout",
     "output_type": "stream",
     "text": [
      "{'Pepe': {'email': 'pepe@gmail.com', 'compras': []}, 'Ana': {'email': 'ana@gmail.com', 'compras': []}}\n"
     ]
    }
   ],
   "source": [
    "tienda.agregar_clientes(\"Ana\", \"ana@gmail.com\")"
   ]
  },
  {
   "cell_type": "code",
   "execution_count": 241,
   "metadata": {},
   "outputs": [
    {
     "name": "stdout",
     "output_type": "stream",
     "text": [
      "Los datos para el cliente Pepe son pepe@gmail.com\n",
      "Los datos para el cliente Ana son ana@gmail.com\n"
     ]
    }
   ],
   "source": [
    "tienda.ver_clientes()"
   ]
  },
  {
   "cell_type": "code",
   "execution_count": 242,
   "metadata": {},
   "outputs": [],
   "source": [
    "carrito_cliente1 = {\"Camisa\": {\"precio\": 20, \"cantidad\": 3}, \"Pantalones\": {\"precio\": 35, \"cantidad\": 2}}\n",
    "tienda.registrar_compra(\"Pepe\", carrito_cliente1)"
   ]
  },
  {
   "cell_type": "code",
   "execution_count": 243,
   "metadata": {},
   "outputs": [
    {
     "name": "stdout",
     "output_type": "stream",
     "text": [
      "Cliente Pepe ha hecho una compra por importe $130 por los siguientes productos:\n",
      "3x Camisa --- $(20) 60\n",
      "2x Pantalones --- $(35) 70\n"
     ]
    }
   ],
   "source": [
    "tienda.ver_compras_cliente(\"Pepe\")"
   ]
  },
  {
   "cell_type": "code",
   "execution_count": 244,
   "metadata": {},
   "outputs": [
    {
     "name": "stdout",
     "output_type": "stream",
     "text": [
      "El total de ventas suma $130\n"
     ]
    }
   ],
   "source": [
    "tienda.calcular_ventas_totales()"
   ]
  }
 ],
 "metadata": {
  "kernelspec": {
   "display_name": "base",
   "language": "python",
   "name": "python3"
  },
  "language_info": {
   "codemirror_mode": {
    "name": "ipython",
    "version": 3
   },
   "file_extension": ".py",
   "mimetype": "text/x-python",
   "name": "python",
   "nbconvert_exporter": "python",
   "pygments_lexer": "ipython3",
   "version": "3.9.7"
  }
 },
 "nbformat": 4,
 "nbformat_minor": 2
}
