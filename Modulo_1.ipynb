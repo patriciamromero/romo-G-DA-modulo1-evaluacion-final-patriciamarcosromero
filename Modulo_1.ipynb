{
 "cells": [
  {
   "cell_type": "markdown",
   "metadata": {},
   "source": [
    "Evaluación Final"
   ]
  },
  {
   "cell_type": "code",
   "execution_count": 174,
   "metadata": {},
   "outputs": [],
   "source": [
    "#crear clase TiendaOnline\n",
    "\n",
    "#atributos inventario (lista diccionarios), cliente (diccionario) y ventas totales (float)\n",
    "\n",
    "#métodos agregar producto (self, nombre, precio, cantidad) agrega o actualiza. Con un bucle for. \n",
    "\n",
    "# ver inventario usar bucle for para recorrrer inventario y devolver nombre precio y cantidad \n",
    "\n",
    "#buscar producto usando el nombre con un bucle for\n",
    "\n",
    "# actualizar stock on un for recorre el inventario, busca producto y actualiza segun cantidad inventada. Si el producto no está devuelve mensje indicando \n",
    "\n",
    "#clcular valor inventario con un for para calcular el valor total de producto x cantidad y sumarlos todos\n",
    "\n",
    "#realizar compra seleccionnar productos del inventario. Con un while. "
   ]
  },
  {
   "cell_type": "code",
   "execution_count": 175,
   "metadata": {},
   "outputs": [],
   "source": [
    "class TiendaOnline:\n",
    "    def __init__(self):\n",
    "        self.inventario = []\n",
    "        self.clientes = {}\n",
    "        self.ventas_totales = 0\n",
    "        \n",
    "\n",
    "    def agregar_producto(self, nombre, precio, cantidad):\n",
    "\n",
    "        producto = {\"nombre\": nombre, \"precio\": precio, \"cantidad\": cantidad}\n",
    "\n",
    "        if len(self.inventario) > 0:\n",
    "            \n",
    "            for producto_existente in self.inventario:\n",
    "\n",
    "                if producto_existente == producto:\n",
    "\n",
    "                    producto_existente[\"cantidad\"] = cantidad\n",
    "            \n",
    "                else: \n",
    "\n",
    "                    self.inventario.append(producto)\n",
    "\n",
    "        else:\n",
    "            \n",
    "            self.inventario.append(producto)\n",
    "\n",
    "\n",
    "    \n",
    "    def ver_inventario(self):\n",
    "        \n",
    "        for producto_existente in self.inventario:\n",
    "\n",
    "            print(f\"Nombre: {producto_existente['nombre']}, Precio : ${producto_existente['precio']}, Cantidad: {producto_existente['cantidad']}\")\n",
    "\n",
    "    def buscar_producto(self, nombre):\n",
    "\n",
    "        for producto_existente in self.inventario:\n",
    "\n",
    "            if producto_existente[\"nombre\"] == nombre:\n",
    "\n",
    "                print(f\"Nombre: {producto_existente['nombre']}, Precio : ${producto_existente['precio']}, Cantidad: {producto_existente['cantidad']}\")\n",
    "                return producto_existente\n",
    "\n",
    "    def actualizar_stock(self, nombre, cantidad):\n",
    "\n",
    "        for producto_existente in self.inventario:\n",
    "\n",
    "            if producto_existente[\"nombre\"] == nombre:\n",
    "\n",
    "                producto_existente[\"cantidad\"] = cantidad\n",
    "                return \n",
    "            \n",
    "        print(\"Producto no disponible en inventario\")\n",
    "\n",
    "    def eliminar_producto(self, nombre):\n",
    "\n",
    "        for producto_existente in self.inventario:\n",
    "\n",
    "            if producto_existente[\"nombre\"] == nombre:\n",
    "\n",
    "                self.inventario.remove(producto_existente)\n",
    "                return\n",
    "            \n",
    "                \n",
    "        print(\"El producto no existe en inventario\")\n",
    "    \n",
    "    def calcular_valor_inventario(self):\n",
    "\n",
    "        for producto_existente in self.inventario:\n",
    "\n",
    "            valor_producto_existente = producto_existente[\"precio\"] * producto_existente[\"cantidad\"]\n",
    "\n",
    "            valor_inventario =+ valor_producto_existente\n",
    "\n",
    "            return valor_inventario\n",
    "    \n",
    "    def realizar_compra(self):\n",
    "\n",
    "        seguir_comprando = True\n",
    "\n",
    "        carrito_cliente = []\n",
    "        \n",
    "        costo_total_compra = 0 \n",
    "\n",
    "        while seguir_comprando:\n",
    "        \n",
    "            self.ver_inventario()\n",
    "\n",
    "            nombre_producto_cliente = input(\"Indica el producto que quieres añadir a tu carrito de compra\")\n",
    "\n",
    "            producto_cliente_quiere = self.buscar_producto(nombre_producto_cliente)\n",
    "            \n",
    "            if producto_cliente_quiere not in self.inventario:\n",
    "                print(\"Producto no disponible\")\n",
    "                respuesta_seguir_comprando = input(\"¿Quieres seguir comprando?[Si/No]\").lower()\n",
    "                \n",
    "                if respuesta_seguir_comprando == \"no\":\n",
    "                    seguir_comprando = False\n",
    "                \n",
    "                continue\n",
    "\n",
    "            carrito_cliente.append(producto_cliente_quiere)\n",
    "\n",
    "            self.actualizar_stock(nombre_producto_cliente, producto_cliente_quiere[\"cantidad\"] - 1 )\n",
    "\n",
    "            respuesta_seguir_comprando = input(\"¿Quieres seguir comprando?[Si/No]\").lower()\n",
    "\n",
    "            if respuesta_seguir_comprando == \"no\":\n",
    "                \n",
    "                seguir_comprando = False     \n",
    "        \n",
    "        for producto in carrito_cliente:\n",
    "    \n",
    "            costo_total_compra = costo_total_compra + producto[\"precio\"]\n",
    "        \n",
    "\n",
    "        print(f\"El precio de tu compra es de ${costo_total_compra}\")\n",
    "\n",
    "        return carrito_cliente  \n",
    "\n",
    "    def procesar_pago(self):\n",
    "\n",
    "        cantidad_deuda= (input(\"¿Cuánto quiere pagar?\"))\n",
    "        cantidad_pago = (input(\"¿Cuánto dinero ingresa?\"))\n",
    "\n",
    "        try:        \n",
    "            cambio = int(cantidad_pago) - int(cantidad_deuda)\n",
    "            \n",
    "            if cambio >= 0:\n",
    "\n",
    "                print(f\"Pago existoso. Aquí tiene su cambio ${cambio}\")\n",
    "\n",
    "            else:\n",
    "\n",
    "                print(f\"La cantidad de ${cantidad_pago} es insuficiente para saldar la deuda de ${cantidad_deuda}\")\n",
    "        except:\n",
    "            ValueError\n",
    "            print(\"Error. Revise la información no es posible procesar el pago.\")\n",
    "    \n",
    "    def agregar_clientes(self, nombre, email):\n",
    "            \n",
    "            self.clientes[nombre] = {\"nombre\" : {\"email\": email}}\n",
    "            print(self.clientes)\n",
    "    \n",
    "    def ver_clientes(self):\n",
    "\n",
    "         for cliente in self.clientes:\n",
    "             \n",
    "             print(self.clientes.get(cliente))\n",
    "    \n",
    "    def registrar_compra(self, nombre_cliente, carrito):  \n",
    "        \n",
    "        total_compra_cliente = 0\n",
    "        \n",
    "        if nombre_cliente in self.clientes.keys():\n",
    "\n",
    "            for datos_producto in carrito.values():\n",
    "\n",
    "                total_compra_cliente = total_compra_cliente + (datos_producto[\"precio\"] * datos_producto[\"cantidad\"])\n",
    "                self.clientes[\"nombre\"] = nombre_cliente.get(\"compras\")\n",
    "                \n",
    "                print(self.clientes)\n",
    "        else:\n",
    "\n",
    "            print(\"No se puede realiar la acción.\")\n",
    "        \n",
    "    def ver_compras_cliente(self, nombre_cliente):\n",
    "        \n",
    "        for cliente in self.clientes:\n",
    "\n",
    "            if nombre_cliente == cliente:\n",
    "\n",
    "                print(carrito)\n",
    "    \n",
    "    def calcular_ventas_totales(self):\n",
    "\n",
    "        ventas_totales = 0\n",
    "\n",
    "        for compra in self.clientes:\n",
    "\n",
    "            ventas_totales = ventas_totales + compra\n",
    "\n",
    "            print(f\"Las ventas totales suman ${ventas_totales}\")\n",
    "\n",
    "\n",
    "\n",
    "\n",
    "\n",
    "\n",
    "\n",
    "\n",
    "\n",
    "\n",
    "            \n",
    "\n",
    "\n",
    "\n",
    "\n",
    "\n",
    "\n",
    "\n",
    "\n",
    "\n",
    "\n",
    "\n",
    "\n",
    "\n",
    "\n",
    "\n",
    "\n",
    "\n",
    "      \n",
    "\n",
    "\n",
    "\n",
    "\n",
    "\n",
    "\n",
    "\n",
    "\n",
    "\n"
   ]
  },
  {
   "cell_type": "code",
   "execution_count": 176,
   "metadata": {},
   "outputs": [],
   "source": [
    "ejemplo = TiendaOnline()\n",
    "\n",
    "ejemplo.agregar_producto(\"camisa\", 10, 4)\n"
   ]
  },
  {
   "cell_type": "code",
   "execution_count": 177,
   "metadata": {},
   "outputs": [],
   "source": [
    "ejemplo.agregar_producto(\"vestido\", 15, 7)"
   ]
  },
  {
   "cell_type": "code",
   "execution_count": 178,
   "metadata": {},
   "outputs": [
    {
     "name": "stdout",
     "output_type": "stream",
     "text": [
      "Nombre: camisa, Precio : $10, Cantidad: 4\n",
      "Nombre: vestido, Precio : $15, Cantidad: 7\n"
     ]
    }
   ],
   "source": [
    "ejemplo.ver_inventario()"
   ]
  },
  {
   "cell_type": "code",
   "execution_count": 179,
   "metadata": {},
   "outputs": [
    {
     "name": "stdout",
     "output_type": "stream",
     "text": [
      "Nombre: camisa, Precio : $10, Cantidad: 4\n"
     ]
    },
    {
     "data": {
      "text/plain": [
       "{'nombre': 'camisa', 'precio': 10, 'cantidad': 4}"
      ]
     },
     "execution_count": 179,
     "metadata": {},
     "output_type": "execute_result"
    }
   ],
   "source": [
    "ejemplo.buscar_producto(\"camisa\")"
   ]
  },
  {
   "cell_type": "code",
   "execution_count": 180,
   "metadata": {},
   "outputs": [],
   "source": [
    "ejemplo.actualizar_stock(\"vestido\", 6)"
   ]
  },
  {
   "cell_type": "code",
   "execution_count": 181,
   "metadata": {},
   "outputs": [],
   "source": [
    "ejemplo.actualizar_stock(\"camisa\", 15)"
   ]
  },
  {
   "cell_type": "code",
   "execution_count": 182,
   "metadata": {},
   "outputs": [],
   "source": [
    "ejemplo.eliminar_producto(\"vestido\")"
   ]
  },
  {
   "cell_type": "code",
   "execution_count": 183,
   "metadata": {},
   "outputs": [],
   "source": [
    "#ejemplo.eliminar_producto(\"camisa\")"
   ]
  },
  {
   "cell_type": "code",
   "execution_count": 184,
   "metadata": {},
   "outputs": [
    {
     "data": {
      "text/plain": [
       "150"
      ]
     },
     "execution_count": 184,
     "metadata": {},
     "output_type": "execute_result"
    }
   ],
   "source": [
    "ejemplo.calcular_valor_inventario()"
   ]
  },
  {
   "cell_type": "code",
   "execution_count": 185,
   "metadata": {},
   "outputs": [
    {
     "name": "stdout",
     "output_type": "stream",
     "text": [
      "Nombre: camisa, Precio : $10, Cantidad: 15\n",
      "Nombre: camisa, Precio : $10, Cantidad: 15\n",
      "El precio de tu compra es de $10\n"
     ]
    },
    {
     "data": {
      "text/plain": [
       "[{'nombre': 'camisa', 'precio': 10, 'cantidad': 14}]"
      ]
     },
     "execution_count": 185,
     "metadata": {},
     "output_type": "execute_result"
    }
   ],
   "source": [
    "ejemplo.realizar_compra()"
   ]
  },
  {
   "cell_type": "code",
   "execution_count": 186,
   "metadata": {},
   "outputs": [
    {
     "name": "stdout",
     "output_type": "stream",
     "text": [
      "La cantidad de $34567 es insuficiente para saldar la deuda de $45678\n"
     ]
    }
   ],
   "source": [
    "ejemplo.procesar_pago()"
   ]
  },
  {
   "cell_type": "code",
   "execution_count": 187,
   "metadata": {},
   "outputs": [
    {
     "name": "stdout",
     "output_type": "stream",
     "text": [
      "{'Marta': {'nombre': {'email': 'marta@gmail.com'}}}\n"
     ]
    }
   ],
   "source": [
    "ejemplo.agregar_clientes(\"Marta\", \"marta@gmail.com\")"
   ]
  },
  {
   "cell_type": "code",
   "execution_count": 188,
   "metadata": {},
   "outputs": [
    {
     "name": "stdout",
     "output_type": "stream",
     "text": [
      "{'nombre': {'email': 'marta@gmail.com'}}\n"
     ]
    }
   ],
   "source": [
    "ejemplo.ver_clientes()"
   ]
  },
  {
   "cell_type": "code",
   "execution_count": 189,
   "metadata": {},
   "outputs": [
    {
     "ename": "AttributeError",
     "evalue": "'str' object has no attribute 'get'",
     "output_type": "error",
     "traceback": [
      "\u001b[0;31m---------------------------------------------------------------------------\u001b[0m",
      "\u001b[0;31mAttributeError\u001b[0m                            Traceback (most recent call last)",
      "\u001b[0;32m/var/folders/z0/ptwngvg97wndky1th_f_rz8r0000gp/T/ipykernel_7626/3774115237.py\u001b[0m in \u001b[0;36m<module>\u001b[0;34m\u001b[0m\n\u001b[1;32m      1\u001b[0m \u001b[0mcarrito_cliente1\u001b[0m \u001b[0;34m=\u001b[0m \u001b[0;34m{\u001b[0m\u001b[0;34m\"Camisa\"\u001b[0m\u001b[0;34m:\u001b[0m \u001b[0;34m{\u001b[0m\u001b[0;34m\"precio\"\u001b[0m\u001b[0;34m:\u001b[0m \u001b[0;36m20\u001b[0m\u001b[0;34m,\u001b[0m \u001b[0;34m\"cantidad\"\u001b[0m\u001b[0;34m:\u001b[0m \u001b[0;36m3\u001b[0m\u001b[0;34m}\u001b[0m\u001b[0;34m}\u001b[0m\u001b[0;34m\u001b[0m\u001b[0;34m\u001b[0m\u001b[0m\n\u001b[0;32m----> 2\u001b[0;31m \u001b[0mejemplo\u001b[0m\u001b[0;34m.\u001b[0m\u001b[0mregistrar_compra\u001b[0m\u001b[0;34m(\u001b[0m\u001b[0;34m\"Marta\"\u001b[0m\u001b[0;34m,\u001b[0m \u001b[0mcarrito_cliente1\u001b[0m\u001b[0;34m)\u001b[0m\u001b[0;34m\u001b[0m\u001b[0;34m\u001b[0m\u001b[0m\n\u001b[0m",
      "\u001b[0;32m/var/folders/z0/ptwngvg97wndky1th_f_rz8r0000gp/T/ipykernel_7626/1069895713.py\u001b[0m in \u001b[0;36mregistrar_compra\u001b[0;34m(self, nombre_cliente, carrito)\u001b[0m\n\u001b[1;32m    159\u001b[0m \u001b[0;34m\u001b[0m\u001b[0m\n\u001b[1;32m    160\u001b[0m                 \u001b[0mtotal_compra_cliente\u001b[0m \u001b[0;34m=\u001b[0m \u001b[0mtotal_compra_cliente\u001b[0m \u001b[0;34m+\u001b[0m \u001b[0;34m(\u001b[0m\u001b[0mdatos_producto\u001b[0m\u001b[0;34m[\u001b[0m\u001b[0;34m\"precio\"\u001b[0m\u001b[0;34m]\u001b[0m \u001b[0;34m*\u001b[0m \u001b[0mdatos_producto\u001b[0m\u001b[0;34m[\u001b[0m\u001b[0;34m\"cantidad\"\u001b[0m\u001b[0;34m]\u001b[0m\u001b[0;34m)\u001b[0m\u001b[0;34m\u001b[0m\u001b[0;34m\u001b[0m\u001b[0m\n\u001b[0;32m--> 161\u001b[0;31m                 \u001b[0mself\u001b[0m\u001b[0;34m.\u001b[0m\u001b[0mclientes\u001b[0m\u001b[0;34m[\u001b[0m\u001b[0;34m\"nombre\"\u001b[0m\u001b[0;34m]\u001b[0m \u001b[0;34m=\u001b[0m \u001b[0mnombre_cliente\u001b[0m\u001b[0;34m.\u001b[0m\u001b[0mget\u001b[0m\u001b[0;34m(\u001b[0m\u001b[0;34m\"compras\"\u001b[0m\u001b[0;34m)\u001b[0m\u001b[0;34m\u001b[0m\u001b[0;34m\u001b[0m\u001b[0m\n\u001b[0m\u001b[1;32m    162\u001b[0m \u001b[0;34m\u001b[0m\u001b[0m\n\u001b[1;32m    163\u001b[0m                 \u001b[0mprint\u001b[0m\u001b[0;34m(\u001b[0m\u001b[0mself\u001b[0m\u001b[0;34m.\u001b[0m\u001b[0mclientes\u001b[0m\u001b[0;34m)\u001b[0m\u001b[0;34m\u001b[0m\u001b[0;34m\u001b[0m\u001b[0m\n",
      "\u001b[0;31mAttributeError\u001b[0m: 'str' object has no attribute 'get'"
     ]
    }
   ],
   "source": [
    "carrito_cliente1 = {\"Camisa\": {\"precio\": 20, \"cantidad\": 3}}\n",
    "ejemplo.registrar_compra(\"Marta\", carrito_cliente1)"
   ]
  },
  {
   "cell_type": "code",
   "execution_count": null,
   "metadata": {},
   "outputs": [],
   "source": []
  }
 ],
 "metadata": {
  "kernelspec": {
   "display_name": "base",
   "language": "python",
   "name": "python3"
  },
  "language_info": {
   "codemirror_mode": {
    "name": "ipython",
    "version": 3
   },
   "file_extension": ".py",
   "mimetype": "text/x-python",
   "name": "python",
   "nbconvert_exporter": "python",
   "pygments_lexer": "ipython3",
   "version": "3.9.7"
  }
 },
 "nbformat": 4,
 "nbformat_minor": 2
}
