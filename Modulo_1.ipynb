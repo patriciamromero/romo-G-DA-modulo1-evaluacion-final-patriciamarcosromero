{
 "cells": [
  {
   "cell_type": "markdown",
   "metadata": {},
   "source": [
    "Evaluación Final"
   ]
  },
  {
   "cell_type": "code",
   "execution_count": 1,
   "metadata": {},
   "outputs": [],
   "source": [
    "#crear clase TiendaOnline\n",
    "\n",
    "#atributos inventario (lista diccionarios), cliente (diccionario) y ventas totales (float)\n",
    "\n",
    "#métodos agregar producto (self, nombre, precio, cantidad) agrega o actualiza. Con un bucle for. \n",
    "\n",
    "# ver inventario usar bucle for para recorrrer inventario y devolver nombre precio y cantidad \n",
    "\n",
    "#buscar producto usando el nombre con un bucle for\n",
    "\n",
    "# actualizar stock on un for recorre el inventario, busca producto y actualiza segun cantidad inventada. Si el producto no está devuelve mensje indicando \n",
    "\n",
    "#clcular valor inventario con un for para calcular el valor total de producto x cantidad y sumarlos todos\n",
    "\n",
    "#realizar compra seleccionnar productos del inventario. Con un while. "
   ]
  },
  {
   "cell_type": "code",
   "execution_count": 140,
   "metadata": {},
   "outputs": [],
   "source": [
    "class TiendaOnline:\n",
    "    def __init__(self):\n",
    "        self.inventario = []\n",
    "        self.clientes = {}\n",
    "        self.ventas_totales = 0\n",
    "        \n",
    "\n",
    "    def agregar_producto(self, nombre, precio, cantidad):\n",
    "\n",
    "        producto = {\"nombre\": nombre, \"precio\": precio, \"cantidad\": cantidad}\n",
    "\n",
    "        if len(self.inventario) > 0:\n",
    "            \n",
    "            for producto_existente in self.inventario:\n",
    "\n",
    "                if producto_existente == producto:\n",
    "\n",
    "                    producto_existente[\"cantidad\"] = cantidad\n",
    "            \n",
    "                else: \n",
    "\n",
    "                    self.inventario.append(producto)\n",
    "\n",
    "        else:\n",
    "            \n",
    "            self.inventario.append(producto)\n",
    "\n",
    "\n",
    "    \n",
    "    def ver_inventario(self):\n",
    "        \n",
    "        for producto_existente in self.inventario:\n",
    "\n",
    "            print(f\"Nombre: {producto_existente['nombre']}, Precio : ${producto_existente['precio']}, Cantidad: {producto_existente['cantidad']}\")\n",
    "\n",
    "    def buscar_producto(self, nombre):\n",
    "\n",
    "        for producto_existente in self.inventario:\n",
    "\n",
    "            if producto_existente[\"nombre\"] == nombre:\n",
    "\n",
    "                print(f\"Nombre: {producto_existente['nombre']}, Precio : ${producto_existente['precio']}, Cantidad: {producto_existente['cantidad']}\")\n",
    "                return producto_existente\n",
    "\n",
    "    def actualizar_stock(self, nombre, cantidad):\n",
    "\n",
    "        for producto_existente in self.inventario:\n",
    "\n",
    "            if producto_existente[\"nombre\"] == nombre:\n",
    "\n",
    "                producto_existente[\"cantidad\"] = cantidad\n",
    "                return \n",
    "            \n",
    "        print(\"Producto no disponible en inventario\")\n",
    "\n",
    "    def eliminar_producto(self, nombre):\n",
    "\n",
    "        for producto_existente in self.inventario:\n",
    "\n",
    "            if producto_existente[\"nombre\"] == nombre:\n",
    "\n",
    "                self.inventario.remove(producto_existente)\n",
    "                return\n",
    "            \n",
    "                \n",
    "        print(\"El producto no existe en inventario\")\n",
    "    \n",
    "    def calcular_valor_inventario(self):\n",
    "\n",
    "        for producto_existente in self.inventario:\n",
    "\n",
    "            valor_producto_existente = producto_existente[\"precio\"] * producto_existente[\"cantidad\"]\n",
    "\n",
    "            valor_inventario =+ valor_producto_existente\n",
    "\n",
    "            return valor_inventario\n",
    "    \n",
    "    def realizar_compra(self):\n",
    "\n",
    "        seguir_comprando = True\n",
    "\n",
    "        carrito_cliente = []\n",
    "        \n",
    "        costo_total_compra = 0 \n",
    "\n",
    "        while seguir_comprando:\n",
    "        \n",
    "            self.ver_inventario()\n",
    "\n",
    "            nombre_producto_cliente = input(\"Indica el producto que quieres añadir a tu carrito de compra\")\n",
    "\n",
    "            producto_cliente_quiere = self.buscar_producto(nombre_producto_cliente)\n",
    "            \n",
    "            if producto_cliente_quiere not in self.inventario:\n",
    "                print(\"Producto no disponible\")\n",
    "                respuesta_seguir_comprando = input(\"¿Quieres seguir comprando?[Si/No]\").lower()\n",
    "                \n",
    "                if respuesta_seguir_comprando == \"no\":\n",
    "                    seguir_comprando = False\n",
    "                \n",
    "                continue\n",
    "\n",
    "            carrito_cliente.append(producto_cliente_quiere)\n",
    "\n",
    "            self.actualizar_stock(nombre_producto_cliente, producto_cliente_quiere[\"cantidad\"] - 1 )\n",
    "\n",
    "            respuesta_seguir_comprando = input(\"¿Quieres seguir comprando?[Si/No]\").lower()\n",
    "\n",
    "            if respuesta_seguir_comprando == \"no\":\n",
    "                \n",
    "                seguir_comprando = False\n",
    "        \n",
    "        for producto in carrito_cliente:\n",
    "    \n",
    "            costo_total_compra = costo_total_compra + producto[\"precio\"]\n",
    "\n",
    "        print(f\"El precio de tu compra es de ${costo_total_compra}\")\n",
    "\n",
    "    def procesar_pago(self):\n",
    "\n",
    "        \n",
    "        cantidad_deuda= input(\"¿Cuánto quiere pagar?\")\n",
    "        cantidad_pago = input(\"¿Cuánto dinero ingresa?\")\n",
    "\n",
    "        cambio = cantidad_pago - cantidad_deuda\n",
    "    \n",
    "        if cambio >= 0:\n",
    "            print(f\"Pago existoso. Aquí tiene su cambio ${cambio}\")\n",
    "        else:\n",
    "            print(f\"${cantidad_pago} es insuficiente para saldar ${cantidad_deuda}\")\n",
    "\n",
    "\n",
    "\n",
    "\n",
    "\n",
    "\n",
    "\n",
    "\n",
    "\n",
    "\n",
    "\n",
    "\n",
    "      \n",
    "\n",
    "\n",
    "\n",
    "\n",
    "\n",
    "\n",
    "\n",
    "\n",
    "\n"
   ]
  },
  {
   "cell_type": "code",
   "execution_count": 144,
   "metadata": {},
   "outputs": [],
   "source": [
    "ejemplo = TiendaOnline()\n",
    "\n",
    "ejemplo.agregar_producto(\"camisa\", 10, 4)\n"
   ]
  },
  {
   "cell_type": "code",
   "execution_count": 145,
   "metadata": {},
   "outputs": [],
   "source": [
    "ejemplo.agregar_producto(\"vestido\", 15, 7)"
   ]
  },
  {
   "cell_type": "code",
   "execution_count": 115,
   "metadata": {},
   "outputs": [
    {
     "name": "stdout",
     "output_type": "stream",
     "text": [
      "Nombre: camisa, Precio : $10, Cantidad: 15\n",
      "Nombre: vestido, Precio : $15, Cantidad: 5\n"
     ]
    }
   ],
   "source": [
    "ejemplo.ver_inventario()"
   ]
  },
  {
   "cell_type": "code",
   "execution_count": 106,
   "metadata": {},
   "outputs": [
    {
     "name": "stdout",
     "output_type": "stream",
     "text": [
      "Nombre: camisa, Precio : $10, Cantidad: 3\n"
     ]
    },
    {
     "data": {
      "text/plain": [
       "{'nombre': 'camisa', 'precio': 10, 'cantidad': 3}"
      ]
     },
     "execution_count": 106,
     "metadata": {},
     "output_type": "execute_result"
    }
   ],
   "source": [
    "ejemplo.buscar_producto(\"camisa\")"
   ]
  },
  {
   "cell_type": "code",
   "execution_count": 146,
   "metadata": {},
   "outputs": [],
   "source": [
    "ejemplo.actualizar_stock(\"vestido\", 6)"
   ]
  },
  {
   "cell_type": "code",
   "execution_count": 110,
   "metadata": {},
   "outputs": [],
   "source": [
    "ejemplo.actualizar_stock(\"camisa\", 15)"
   ]
  },
  {
   "cell_type": "code",
   "execution_count": 123,
   "metadata": {},
   "outputs": [],
   "source": [
    "ejemplo.eliminar_producto(\"vestido\")"
   ]
  },
  {
   "cell_type": "code",
   "execution_count": 51,
   "metadata": {},
   "outputs": [],
   "source": [
    "#ejemplo.eliminar_producto(\"camisa\")"
   ]
  },
  {
   "cell_type": "code",
   "execution_count": 112,
   "metadata": {},
   "outputs": [
    {
     "data": {
      "text/plain": [
       "150"
      ]
     },
     "execution_count": 112,
     "metadata": {},
     "output_type": "execute_result"
    }
   ],
   "source": [
    "ejemplo.calcular_valor_inventario()"
   ]
  },
  {
   "cell_type": "code",
   "execution_count": 143,
   "metadata": {},
   "outputs": [
    {
     "name": "stdout",
     "output_type": "stream",
     "text": [
      "Nombre: camisa, Precio : $10, Cantidad: 4\n",
      "Nombre: camisa, Precio : $10, Cantidad: 4\n",
      "Nombre: camisa, Precio : $10, Cantidad: 3\n",
      "Producto no disponible\n",
      "El precio de tu compra es de $10\n"
     ]
    }
   ],
   "source": [
    "ejemplo.realizar_compra()"
   ]
  },
  {
   "cell_type": "code",
   "execution_count": null,
   "metadata": {},
   "outputs": [],
   "source": []
  },
  {
   "cell_type": "code",
   "execution_count": 85,
   "metadata": {},
   "outputs": [],
   "source": [
    "class TiendaOnline:\n",
    "    def __init__(self, inventario, clientes, ventas_totales):\n",
    "\n",
    "        self.inventario = []\n",
    "        self.clientes = {}\n",
    "        self.ventas_totales = 0\n",
    "        self.nombre = \"\"\n",
    "        self.precio = 0\n",
    "        self.cantidad = 0\n",
    "        self.producto = {\"nombre\" : self.nombre, \"precio\": self.precio, \"cantidad\": self.cantidad}\n",
    "\n",
    "    \n",
    "    def agregar_producto(self, nombre, precio, cantidad):\n",
    "\n",
    "        for self.nombre in self.inventario: \n",
    "\n",
    "            if self.nombre in self.inventario:\n",
    "\n",
    "                self.inventario[\"nombre\"] = self.cantidad\n",
    "            \n",
    "            else: \n",
    "\n",
    "                producto[\"nombre\"] = self.nombre\n",
    "                producto[\"precio\"] = self.precio\n",
    "                producto[\"cantidad\"] = self.cantidad\n",
    "                self.inventario.append(producto)\n",
    "                return inventario\n",
    "\n",
    "\n",
    "\n",
    "\n",
    "    \n",
    "    #def ver_inventario(self):\n",
    "    \n",
    "    #def buscar_producto(self, nombre):\n",
    "    \n",
    "    #def actualizar_stock(self, nombre, cantidad):\n",
    "    \n",
    "    #def eliminar_producto(self, nombre):\n",
    "    \n",
    "    #def calcular_valor_inventario(self):\n",
    "    \n",
    "\n",
    "    \n",
    "\n",
    "    \n",
    "\n"
   ]
  },
  {
   "cell_type": "code",
   "execution_count": null,
   "metadata": {},
   "outputs": [],
   "source": []
  }
 ],
 "metadata": {
  "kernelspec": {
   "display_name": "base",
   "language": "python",
   "name": "python3"
  },
  "language_info": {
   "codemirror_mode": {
    "name": "ipython",
    "version": 3
   },
   "file_extension": ".py",
   "mimetype": "text/x-python",
   "name": "python",
   "nbconvert_exporter": "python",
   "pygments_lexer": "ipython3",
   "version": "3.9.7"
  }
 },
 "nbformat": 4,
 "nbformat_minor": 2
}
